{
 "cells": [
  {
   "cell_type": "markdown",
   "metadata": {
    "collapsed": false
   },
   "source": [
    "\n",
    "here What would happen then \n",
    "if you would buy any kinds of stocks then  detecting a jump of market "
   ]
  },
  {
   "cell_type": "code",
   "execution_count": 2,
   "metadata": {
    "ExecuteTime": {
     "end_time": "2024-02-26T15:53:36.279534100Z",
     "start_time": "2024-02-26T15:53:34.798456600Z"
    },
    "collapsed": true
   },
   "outputs": [],
   "source": [
    "import sys\n",
    "sys.path.append(\"C:\\\\Users\\\\ASUS\\\\project\\\\anomaly-detection\")\n",
    "from Stocks.BuilderStock import acc_score, build_stock\n",
    "from Stocks.StocksLoader import Stocks\n",
    "\n",
    "import pandas as pd"
   ]
  },
  {
   "cell_type": "markdown",
   "metadata": {
    "collapsed": false
   },
   "source": [
    "here we try To test what would happen if you buy a stock when a jump occurs, we will take a few different stocks to test this. \n",
    "The main are FAANG stocks, trending stocks, different kinds of  stock industries, and indices.\n",
    "and getting a time interval .\n"
   ]
  },
  {
   "cell_type": "code",
   "execution_count": 3,
   "metadata": {
    "ExecuteTime": {
     "end_time": "2024-02-26T15:53:44.679949200Z",
     "start_time": "2024-02-26T15:53:44.665947500Z"
    },
    "collapsed": false,
    "pycharm": {
     "name": "#%%\n"
    }
   },
   "outputs": [],
   "source": [
    "faang    = ['META','AMZN','AAPL','NFLX','GOOG']\n",
    "trending = ['TSLA','AMC','NVDA','GME','ARNA','PFE','HOG','BLU','BMY','ETH-USD','QCOM','MGM','LUPIN.NS','JNJ','SHOP','AXP','AMD']\n",
    "branchen = ['EOAN.DE','RWE.DE','ALV.DE','MUV2.DE','DBK.DE','CBK.DE','NWT.F','AFX.DE','PFE.F','SIX2.DE','DTE.DE','SOBA.F','VODI.DE','TNE5.F','SIE.DE','IFX.DE','SSU.DE','SAP.DE','ZAL.DE','G24.DE','FNTN.DE','ABEC.DE','VOW3.DE','DAI.DE','TOM.DE','ADS.DE','PSM.DE','BOSS.DE','CCC3.DE','PRG.F','LIN.DE','HEI.DE','TKA.DE','TUI1.DE','BRH.F','BAS.DE','BAYN.DE','WMT.F']\n",
    "\n",
    "indizes   = ['^GDAXI', '^MDAXI','^SDAXI','^STOXX50E','^DJI','^GSPC','^IXIC','IMOEX.ME', 'RTSI.ME','^N225','^HSI']"
   ]
  },
  {
   "cell_type": "code",
   "execution_count": 4,
   "metadata": {
    "ExecuteTime": {
     "end_time": "2024-02-26T15:53:52.909790700Z",
     "start_time": "2024-02-26T15:53:52.802724100Z"
    },
    "collapsed": false,
    "pycharm": {
     "name": "#%%\n"
    }
   },
   "outputs": [
    {
     "name": "stderr",
     "output_type": "stream",
     "text": [
      "[*********************100%%**********************]  5 of 5 completed\n"
     ]
    }
   ],
   "source": [
    "trending_stocks = Stocks(faang, faang, start=\"2015-01-01\", stop=\"2021-10-01\")\n",
    "trending_stocks = trending_stocks.df_stocks.dropna()"
   ]
  },
  {
   "cell_type": "markdown",
   "metadata": {
    "collapsed": false
   },
   "source": [
    "The anomaly will be an indicator of buying a stock. To show that an anomaly can be a reason to buy, we compare the results of the anomaly with randomly buying stocks."
   ]
  },
  {
   "cell_type": "markdown",
   "metadata": {},
   "source": [
    "Treffer (Hits): This indicates the number of anomalies correctly detected by the anomaly detection model for the specific stock.\n",
    "\n",
    "Fehler (Errors): This represents the number of false positive anomalies detected by the model.\n",
    "\n",
    "Anomalie (Anomaly): This shows the accuracy of the anomaly detection model for the specific stock. It is calculated as the percentage of correctly detected anomalies out of the total anomalies (Treffer / (Treffer + Fehler)) * 100.\n",
    "\n",
    "Zufällig (Random): This indicates the accuracy of randomly predicting anomalies for the specific stock. It serves as a baseline comparison."
   ]
  },
  {
   "cell_type": "code",
   "execution_count": 5,
   "metadata": {
    "ExecuteTime": {
     "end_time": "2024-02-26T15:54:00.334238Z",
     "start_time": "2024-02-26T15:53:54.699470200Z"
    },
    "collapsed": false,
    "pycharm": {
     "name": "#%%\n"
    }
   },
   "outputs": [
    {
     "name": "stdout",
     "output_type": "stream",
     "text": [
      "Treffer:  10 Fehler: 4\n",
      "META Anomalie: 71.43 %\n",
      "META Zufällig: 78.57 %\n",
      "------------------------\n",
      "Treffer:  11 Fehler: 2\n",
      "AMZN Anomalie: 84.62 %\n",
      "AMZN Zufällig: 84.62 %\n",
      "------------------------\n",
      "Treffer:  13 Fehler: 0\n",
      "AAPL Anomalie: 100.0 %\n",
      "AAPL Zufällig: 92.31 %\n",
      "------------------------\n",
      "Treffer:  11 Fehler: 3\n",
      "NFLX Anomalie: 78.57 %\n",
      "NFLX Zufällig: 71.43 %\n",
      "------------------------\n",
      "Treffer:  14 Fehler: 0\n",
      "GOOG Anomalie: 100.0 %\n",
      "GOOG Zufällig: 85.71 %\n",
      "------------------------\n"
     ]
    }
   ],
   "source": [
    "for label in faang:\n",
    "    df = pd.DataFrame(trending_stocks[label]['Close'])\n",
    "    df = build_stock(df,N=1,contamin=0.008,tage_pred=90)\n",
    "    anom_score, comp_score = acc_score(df,label=label)"
   ]
  },
  {
   "cell_type": "markdown",
   "metadata": {
    "collapsed": false,
    "pycharm": {
     "name": "#%% md\n"
    }
   },
   "source": [
    "The result shows that if you buy randomly or with the help of isolation forest stocks, 90 days later you would make profit.\n",
    "The profit of the usage of an anomaly as an indicator is higher than buying stocks randomly."
   ]
  }
 ],
 "metadata": {
  "kernelspec": {
   "display_name": "Python 3",
   "language": "python",
   "name": "python3"
  },
  "language_info": {
   "codemirror_mode": {
    "name": "ipython",
    "version": 3
   },
   "file_extension": ".py",
   "mimetype": "text/x-python",
   "name": "python",
   "nbconvert_exporter": "python",
   "pygments_lexer": "ipython3",
   "version": "3.11.8"
  }
 },
 "nbformat": 4,
 "nbformat_minor": 0
}
