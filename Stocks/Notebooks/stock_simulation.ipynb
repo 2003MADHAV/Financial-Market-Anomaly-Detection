{
 "cells": [
  {
   "cell_type": "code",
   "execution_count": 7,
   "metadata": {
    "collapsed": false,
    "pycharm": {
     "name": "#%%\n"
    }
   },
   "outputs": [],
   "source": [
    "import sys\n",
    "sys.path.append(r\"C:\\Users\\ASUS\\project\\anomaly-detection\\Stocks\")\n",
    "from Stocks.Simulation import stock_simulation"
   ]
  },
  {
   "cell_type": "code",
   "execution_count": 8,
   "metadata": {
    "collapsed": false,
    "pycharm": {
     "name": "#%%\n"
    }
   },
   "outputs": [],
   "source": [
    "industry_sectors = ['EOAN.DE','RWE.DE','ALV.DE','MUV2.DE','DBK.DE','CBK.DE','NWT.F','AFX.DE','PFE.F','SIX2.DE','DTE.DE','SOBA.F','VODI.DE','TNE5.F','SIE.DE','IFX.DE',\n",
    "            'SAP.DE','ZAL.DE','FNTN.DE','ABEC.DE','VOW3.DE','DAI.DE','ADS.DE','PSM.DE','BOSS.DE','CCC3.DE','PRG.F','LIN.DE','HEI.DE','TKA.DE','TUI1.DE','BRH.F','BAS.DE','BAYN.DE','WMT.F']\n",
    "\n",
    "indizes   = ['^GDAXI', '^MDAXI','^SDAXI','^STOXX50E','^DJI','^GSPC','^IXIC','IMOEX.ME','^N225','^HSI']\n",
    "\n",
    "futures = ['GC=F','CL=F','SI=F','ZS=F','KC=F','ZC=F']"
   ]
  },
  {
   "cell_type": "markdown",
   "metadata": {},
   "source": [
    "The simulation is conducted for different contamination levels (0.005, 0.008, 0.015, 0.09, and 0.25), which serve as thresholds for determining anomalies in the data."
   ]
  },
  {
   "cell_type": "code",
   "execution_count": 9,
   "metadata": {
    "collapsed": false,
    "pycharm": {
     "name": "#%%\n"
    }
   },
   "outputs": [
    {
     "name": "stderr",
     "output_type": "stream",
     "text": [
      "[*********************100%%**********************]  10 of 10 completed\n"
     ]
    },
    {
     "name": "stdout",
     "output_type": "stream",
     "text": [
      "Conta 0.005\n",
      "Conta 0.008\n",
      "Conta 0.015\n",
      "Conta 0.09\n",
      "Conta 0.25\n",
      "running time: 0.54 min\n"
     ]
    }
   ],
   "source": [
    "table = stock_simulation(labels=indizes,predict=90)"
   ]
  },
  {
   "cell_type": "markdown",
   "metadata": {},
   "source": [
    "howing the contamination levels (Kontamination), the accuracy of anomaly detection (Anomalie Ergebnis), and the accuracy of randomly predicting anomalies (Zufall Ergebnis)."
   ]
  },
  {
   "cell_type": "code",
   "execution_count": 10,
   "metadata": {
    "collapsed": false,
    "pycharm": {
     "name": "#%%\n"
    }
   },
   "outputs": [
    {
     "data": {
      "text/html": [
       "<div>\n",
       "<style scoped>\n",
       "    .dataframe tbody tr th:only-of-type {\n",
       "        vertical-align: middle;\n",
       "    }\n",
       "\n",
       "    .dataframe tbody tr th {\n",
       "        vertical-align: top;\n",
       "    }\n",
       "\n",
       "    .dataframe thead th {\n",
       "        text-align: right;\n",
       "    }\n",
       "</style>\n",
       "<table border=\"1\" class=\"dataframe\">\n",
       "  <thead>\n",
       "    <tr style=\"text-align: right;\">\n",
       "      <th></th>\n",
       "      <th>Kontamination</th>\n",
       "      <th>Anomalie Ergebnis</th>\n",
       "      <th>Zufall Ergebnis</th>\n",
       "    </tr>\n",
       "  </thead>\n",
       "  <tbody>\n",
       "    <tr>\n",
       "      <th>0</th>\n",
       "      <td>0.005</td>\n",
       "      <td>86.428</td>\n",
       "      <td>67.500</td>\n",
       "    </tr>\n",
       "    <tr>\n",
       "      <th>1</th>\n",
       "      <td>0.008</td>\n",
       "      <td>88.101</td>\n",
       "      <td>61.638</td>\n",
       "    </tr>\n",
       "    <tr>\n",
       "      <th>2</th>\n",
       "      <td>0.015</td>\n",
       "      <td>87.253</td>\n",
       "      <td>63.645</td>\n",
       "    </tr>\n",
       "    <tr>\n",
       "      <th>3</th>\n",
       "      <td>0.090</td>\n",
       "      <td>83.533</td>\n",
       "      <td>64.079</td>\n",
       "    </tr>\n",
       "    <tr>\n",
       "      <th>4</th>\n",
       "      <td>0.250</td>\n",
       "      <td>80.825</td>\n",
       "      <td>64.283</td>\n",
       "    </tr>\n",
       "  </tbody>\n",
       "</table>\n",
       "</div>"
      ],
      "text/plain": [
       "   Kontamination  Anomalie Ergebnis  Zufall Ergebnis\n",
       "0          0.005             86.428           67.500\n",
       "1          0.008             88.101           61.638\n",
       "2          0.015             87.253           63.645\n",
       "3          0.090             83.533           64.079\n",
       "4          0.250             80.825           64.283"
      ]
     },
     "execution_count": 10,
     "metadata": {},
     "output_type": "execute_result"
    }
   ],
   "source": [
    "table"
   ]
  },
  {
   "cell_type": "markdown",
   "metadata": {},
   "source": [
    " The table allows for comparison of anomaly detection accuracy under varying contamination levels, aiding in the evaluation of the anomaly detection model's performance."
   ]
  }
 ],
 "metadata": {
  "kernelspec": {
   "display_name": "Python 3",
   "language": "python",
   "name": "python3"
  },
  "language_info": {
   "codemirror_mode": {
    "name": "ipython",
    "version": 3
   },
   "file_extension": ".py",
   "mimetype": "text/x-python",
   "name": "python",
   "nbconvert_exporter": "python",
   "pygments_lexer": "ipython3",
   "version": "3.11.8"
  }
 },
 "nbformat": 4,
 "nbformat_minor": 0
}
